{
 "cells": [
  {
   "cell_type": "code",
   "execution_count": null,
   "metadata": {},
   "outputs": [],
   "source": [
    "from scipy.io import loadmat\n",
    "from operator import index\n",
    "import pandas as pd\n",
    "\n",
    "\n",
    "\n",
    "from mne import create_info,EpochsArray,find_events\n",
    "from mne import Epochs, pick_types, find_events, events_from_annotations,Annotations\n",
    "from mne.channels import make_standard_montage\n",
    "from mne.io import concatenate_raws, RawArray\n",
    "\n"
   ]
  },
  {
   "cell_type": "code",
   "execution_count": null,
   "metadata": {},
   "outputs": [],
   "source": [
    "train = loadmat('stroke/p1_post_training.mat')\n",
    "test = loadmat('stroke/P1_post_test.mat')\n",
    "train=train\n",
    "test=test"
   ]
  },
  {
   "cell_type": "code",
   "execution_count": null,
   "metadata": {},
   "outputs": [],
   "source": [
    "def reannotate(x):\n",
    "    if x ==-1:\n",
    "        return 2\n",
    "    else:\n",
    "        return x\n",
    "\n",
    "\n",
    "df_eeg_train = pd.DataFrame(train['y'])\n",
    "df_trigger = pd.DataFrame(train['trig'])\n",
    "eeg_data_train=df_eeg_train.merge(df_trigger,left_index=True,right_index=True)\n",
    "eeg_data_train['0_y']=eeg_data_train['0_y'].apply(lambda x:reannotate(x))\n",
    "\n",
    "df_eeg_test = pd.DataFrame(test['y'])\n",
    "df_trigger_test = pd.DataFrame(test['trig'])\n",
    "eeg_data_test=df_eeg_test.merge(df_trigger_test,left_index=True,right_index=True)\n",
    "eeg_data_test['0_y']=eeg_data_test['0_y'].apply(lambda x:reannotate(x))"
   ]
  },
  {
   "cell_type": "markdown",
   "metadata": {},
   "source": [
    "به خط RawArray توجه کن\n",
    "\n"
   ]
  },
  {
   "cell_type": "code",
   "execution_count": null,
   "metadata": {},
   "outputs": [],
   "source": [
    "\n",
    "#n_channels = 16\n",
    "sampling_freq = 256  # in Hertz\n",
    "#info = create_info(n_channels, sfreq=sampling_freq)\n",
    "ch_names = ['FC3','FCz','FC4','C5','C3','C1','Cz','C2','C4','C6','CP3','CP1','CPz','CP2','CP4','Pz','Stim']\n",
    "ch_types = ['eeg']*16+['stim']\n",
    "info = create_info(ch_names, ch_types=ch_types, sfreq=sampling_freq)\n",
    "info.set_montage('standard_1020')\n",
    "raw = RawArray(eeg_data_train.T, info)\n",
    "raw.filter(8., 30., fir_design='firwin', skip_by_annotation='edge')\n",
    "tmin, tmax = 0., 8.\n",
    "event_id = dict(left=1, right=2)\n",
    "\n",
    "events = find_events(raw, stim_channel='Stim')\n",
    "mapping = {1: 'Left', 2: 'Right'}\n",
    "onsets = events[:, 0] / raw.info['sfreq']\n",
    "durations = np.zeros_like(onsets)  # assumes instantaneous events\n",
    "descriptions = [mapping[event_id] for event_id in events[:, 2]]\n",
    "annot_from_events = Annotations(onset=onsets, duration=durations,\n",
    "                                    description=descriptions,\n",
    "                                    orig_time=raw.info['meas_date'])\n",
    "raw.set_annotations(annot_from_events)\n",
    "\n",
    "picks = pick_types(raw.info, meg=False, eeg=True, stim=False, eog=False)\n",
    "# Read epochs (train will be done only between 2 and 3.5s)\n",
    "# Testing will be done with a running classifier\n",
    "epochs = Epochs(raw, events, event_id, tmin, tmax, proj=True, picks=picks,\n",
    "                baseline=None, preload=True)\n",
    "epochs_train = epochs.copy().crop(tmin=2, tmax=6)\n",
    "labels = epochs.events[:, -1] - 1"
   ]
  }
 ],
 "metadata": {
  "kernelspec": {
   "display_name": "Python 3.9.7 ('base')",
   "language": "python",
   "name": "python3"
  },
  "language_info": {
   "name": "python",
   "version": "3.9.7"
  },
  "orig_nbformat": 4,
  "vscode": {
   "interpreter": {
    "hash": "88279d2366fe020547cde40dd65aa0e3aa662a6ec1f3ca12d88834876c85e1a6"
   }
  }
 },
 "nbformat": 4,
 "nbformat_minor": 2
}
