{
 "cells": [
  {
   "cell_type": "code",
   "execution_count": 17,
   "metadata": {},
   "outputs": [
    {
     "name": "stderr",
     "output_type": "stream",
     "text": [
      "C:\\Users\\Pankaj\\AppData\\Local\\Temp\\ipykernel_42592\\3645030849.py:20: DeprecationWarning: elementwise comparison failed; this will raise an error in the future.\n",
      "  intensification_onsets = np.where(flashing_diff == 1)[0]\n"
     ]
    }
   ],
   "source": [
    "import numpy as np\n",
    "from scipy.io import loadmat\n",
    "\n",
    "# Load the .mat file\n",
    "mat_contents = loadmat('pxbS010R01.mat')\n",
    "\n",
    "# Extract the data and states from the loaded .mat contents\n",
    "# You'll need to replace 'data' and 'states' with the actual keys from your .mat file\n",
    "data = mat_contents['data']  # Replace 'data' with the actual variable name\n",
    "states = mat_contents['states']  # Replace 'states' with the actual variable name\n",
    "\n",
    "# Define the sampling rate and epoch duration in samples (e.g., 800 ms for 240 Hz)\n",
    "Fs = 240\n",
    "epoch_duration = int(800 * Fs)\n",
    "\n",
    "# Find the onsets of intensification where Flashing goes from 0 to 1\n",
    "# Ensure states.Flashing is properly shaped (it needs to be a 1D array)\n",
    "flashing = states['Flashing'].flatten()  # Replace 'Flashing' with the actual field name\n",
    "flashing_diff = np.diff(np.insert(flashing, 0, 0))  # Prepend a 0 for diff calculation\n",
    "intensification_onsets = np.where(flashing_diff == 1)[0]\n",
    "\n",
    "# Process each epoch individually\n",
    "epochs = []  # This will be a list of arrays, one for each epoch\n",
    "for onset in intensification_onsets:\n",
    "    # Calculate the end of the epoch, ensuring we don't exceed the data length\n",
    "    epoch_end = min(onset + epoch_duration, data.shape[1])\n",
    "    print(epoch_end)\n",
    "    # Extract the epoch from all channels\n",
    "    epoch = data[:, onset:epoch_end]\n",
    "    print(epoch)\n",
    "    # Append the epoch to the list of epochs\n",
    "    epochs.append(epoch)\n",
    "\n",
    "# 'epochs' is now a list containing the extracted epochs for further analysis\n"
   ]
  },
  {
   "cell_type": "code",
   "execution_count": 22,
   "metadata": {},
   "outputs": [
    {
     "data": {
      "text/plain": [
       "array([array([[0],\n",
       "              [0],\n",
       "              [0],\n",
       "              ...,\n",
       "              [0],\n",
       "              [0],\n",
       "              [0]], dtype=uint8)], dtype=object)"
      ]
     },
     "execution_count": 22,
     "metadata": {},
     "output_type": "execute_result"
    }
   ],
   "source": [
    "flashing_diff"
   ]
  }
 ],
 "metadata": {
  "kernelspec": {
   "display_name": "Python 3",
   "language": "python",
   "name": "python3"
  },
  "language_info": {
   "codemirror_mode": {
    "name": "ipython",
    "version": 3
   },
   "file_extension": ".py",
   "mimetype": "text/x-python",
   "name": "python",
   "nbconvert_exporter": "python",
   "pygments_lexer": "ipython3",
   "version": "3.11.7"
  }
 },
 "nbformat": 4,
 "nbformat_minor": 2
}
