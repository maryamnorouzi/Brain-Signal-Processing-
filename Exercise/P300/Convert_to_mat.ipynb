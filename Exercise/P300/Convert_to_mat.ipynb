{
 "cells": [
  {
   "cell_type": "code",
   "execution_count": 65,
   "metadata": {},
   "outputs": [
    {
     "name": "stdout",
     "output_type": "stream",
     "text": [
      "data.shape: (26328, 64) type(data):  <class 'numpy.ndarray'>\n"
     ]
    }
   ],
   "source": [
    "import numpy as np\n",
    "from scipy.io import loadmat\n",
    "\n",
    "# Load the .mat file\n",
    "mat_contents = loadmat('pxbS010R01.mat')\n",
    "\n",
    "# Extract the data and states from the loaded .mat contents\n",
    "data = mat_contents['data']\n",
    "print('data.shape:', data.shape, 'type(data): ', type(data))\n"
   ]
  },
  {
   "cell_type": "code",
   "execution_count": 67,
   "metadata": {},
   "outputs": [
    {
     "name": "stdout",
     "output_type": "stream",
     "text": [
      "flash_final.shape  (26328, 1) type(flash_final): <class 'numpy.ndarray'>\n"
     ]
    }
   ],
   "source": [
    "states = mat_contents['states']\n",
    "flashing = states['Flashing'].flatten()\n",
    "flashing_t=flashing.T\n",
    "flash_final=flashing_t[0]\n",
    "print('flash_final.shape ',flash_final.shape, 'type(flash_final):',  type(flash_final))"
   ]
  },
  {
   "cell_type": "code",
   "execution_count": 69,
   "metadata": {},
   "outputs": [
    {
     "name": "stdout",
     "output_type": "stream",
     "text": [
      "Number of samples per epoch: 192.0\n"
     ]
    }
   ],
   "source": [
    "Fs=240\n",
    "number_of_samples=Fs*800/1000\n",
    "print('Number of samples per epoch:',number_of_samples)"
   ]
  },
  {
   "cell_type": "code",
   "execution_count": 71,
   "metadata": {},
   "outputs": [
    {
     "name": "stdout",
     "output_type": "stream",
     "text": [
      "data_flashing_added.shape: (26328, 65)\n"
     ]
    }
   ],
   "source": [
    "#Epoching\n",
    "#concatenate the data and the flashing points\n",
    "data_flashing_added=np.concatenate([data,flash_final], axis=1)\n",
    "print('data_flashing_added.shape:', data_flashing_added.shape)          "
   ]
  },
  {
   "cell_type": "code",
   "execution_count": 76,
   "metadata": {},
   "outputs": [
    {
     "data": {
      "text/plain": [
       "0"
      ]
     },
     "execution_count": 76,
     "metadata": {},
     "output_type": "execute_result"
    }
   ],
   "source": [
    "data_flashing_added[100][64]"
   ]
  },
  {
   "cell_type": "code",
   "execution_count": 80,
   "metadata": {},
   "outputs": [],
   "source": [
    "#Epoching\n",
    "# Extract the label column\n",
    "labels = data_flashing_added[:, -1]\n",
    "\n",
    "# Find indices where label changes from 0 to 1\n",
    "start_indices = np.where(np.diff(labels, prepend=0) == 1)[0]\n",
    "\n",
    "# Define the number of sample points in each epoch\n",
    "epoch_length = 192\n",
    "\n",
    "# Initialize a list to hold all epochs\n",
    "epochs = []\n",
    "\n",
    "# Extract epochs\n",
    "for start_idx in start_indices:\n",
    "    # Calculate the end of the epoch, ensuring we don't exceed the data length\n",
    "    end_idx = start_idx + epoch_length\n",
    "\n",
    "    # Check if end_idx exceeds the length of the data\n",
    "    if end_idx > len(labels):\n",
    "        # If there are not enough points left, break or handle as needed\n",
    "        break\n",
    "\n",
    "    # Extract the epoch from all channels and append to the list\n",
    "    epoch = data_flashing_added[start_idx:end_idx, :-1]  # Exclude the label column\n",
    "    epochs.append(epoch)\n",
    "\n",
    "# Concatenate all epochs to get a final 3D array (epochs x sample points x channels)\n",
    "epoched_data = np.array(epochs)"
   ]
  },
  {
   "cell_type": "code",
   "execution_count": 82,
   "metadata": {},
   "outputs": [
    {
     "data": {
      "text/plain": [
       "array([[[ 2464,  2864,   464, ...,  6320,  7200,  8528],\n",
       "        [ 3184,  3952,  1552, ...,  8512,  9360, 10768],\n",
       "        [ 5088,  6192,  3776, ...,  8176,  8864,  9744],\n",
       "        ...,\n",
       "        [ 2608,  3648,  1696, ..., 10624,  8048,  8608],\n",
       "        [ 3936,  5216,  3296, ...,  9536,  7008,  7296],\n",
       "        [ 3152,  4480,  2256, ...,  6912,  4544,  4352]],\n",
       "\n",
       "       [[ 4128,  4832,  2544, ...,  7696,  8848,  7952],\n",
       "        [ 3664,  3712,  1424, ...,  6112,  7152,  5920],\n",
       "        [ 1984,  1648,  -720, ...,  6720,  7424,  6144],\n",
       "        ...,\n",
       "        [ 2000,  4160,  3552, ...,  4544,  5056,  5056],\n",
       "        [  352,  2544,  1664, ...,  5168,  5424,  5376],\n",
       "        [ 1136,  3472,  2336, ...,  7008,  7056,  7456]],\n",
       "\n",
       "       [[ 1312,  3504,   320, ...,  6976,  6768,  7360],\n",
       "        [ 1984,  4160,   752, ...,  9056,  8848,  9744],\n",
       "        [ 4064,  5984,  2608, ...,  8656,  8528,  9216],\n",
       "        ...,\n",
       "        [ -752,  1232,   368, ...,  3568,  5760,  6672],\n",
       "        [  880,  2576,  1648, ...,  3344,  5120,  6368],\n",
       "        [ 1184,  2256,  1040, ...,  2048,  3712,  4800]],\n",
       "\n",
       "       ...,\n",
       "\n",
       "       [[ 3296,  4352,  2448, ...,  1424, -5056,   -64],\n",
       "        [ 1776,  2736,   768, ...,  1456, -5120,    80],\n",
       "        [ 1440,  2608,   688, ...,  3360, -3312,  2560],\n",
       "        ...,\n",
       "        [-1472,   960, -2016, ...,   -48, -5776,   -32],\n",
       "        [ -688,  2000,  -992, ...,  1792, -3904,  1888],\n",
       "        [ 1392,  4160,  1120, ...,   912, -4640,   608]],\n",
       "\n",
       "       [[-1152,  2736,  -144, ...,  3232, -1632,  1792],\n",
       "        [  992,  4864,  1776, ...,  3136, -1856,  1504],\n",
       "        [  816,  4560,  1216, ...,  1648, -3408,  -480],\n",
       "        ...,\n",
       "        [ 3152,  4384,  1376, ...,  4336,  -432,  4432],\n",
       "        [ 3088,  4304,  1072, ...,  3040, -1600,  3104],\n",
       "        [ 1872,  3152,   -96, ...,  3104, -1088,  3680]],\n",
       "\n",
       "       [[ 1440,  5056,  1360, ...,   320, -3920, -1200],\n",
       "        [ -368,  3456,  -160, ...,   464, -3792,  -832],\n",
       "        [ -176,  3648,   176, ...,  2240, -2112,  1568],\n",
       "        ...,\n",
       "        [ -368,   400, -2656, ...,  -352, -1712,   320],\n",
       "        [ 1376,  1792, -1408, ...,  1888,   496,  3104],\n",
       "        [ 3760,  4000,   560, ...,  1200,  -400,  2496]]], dtype=int16)"
      ]
     },
     "execution_count": 82,
     "metadata": {},
     "output_type": "execute_result"
    }
   ],
   "source": [
    "epoched_data"
   ]
  }
 ],
 "metadata": {
  "kernelspec": {
   "display_name": "Python 3",
   "language": "python",
   "name": "python3"
  },
  "language_info": {
   "codemirror_mode": {
    "name": "ipython",
    "version": 3
   },
   "file_extension": ".py",
   "mimetype": "text/x-python",
   "name": "python",
   "nbconvert_exporter": "python",
   "pygments_lexer": "ipython3",
   "version": "3.11.7"
  }
 },
 "nbformat": 4,
 "nbformat_minor": 2
}
