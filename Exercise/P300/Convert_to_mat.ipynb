{
 "cells": [
  {
   "cell_type": "code",
   "execution_count": null,
   "metadata": {},
   "outputs": [],
   "source": [
    "import os\n",
    "from scipy.io import savemat\n",
    "\n",
    "# Define the function to load .dat files - this is a placeholder and needs to be defined.\n",
    "def load_bcidat(dat_file_path):\n",
    "    # You would need to write or use a pre-existing function to read the BCI2000 dat file.\n",
    "    # This should return a dictionary with 'data', 'states', and 'parameters' keys.\n",
    "    pass\n",
    "\n",
    "# Specify the directory where your .dat files are located\n",
    "dat_files_dir = 'G:\\My Drive\\3-Spring 2024\\BCI2000\\Exercise\\P300\\Data_pxb010'\n",
    "\n",
    "# List all .dat files in the directory\n",
    "dat_files = [f for f in os.listdir(dat_files_dir) if f.endswith('.dat')]\n",
    "\n",
    "# Loop through each .dat file\n",
    "for dat_file in dat_files:\n",
    "    dat_file_path = os.path.join(dat_files_dir, dat_file)\n",
    "    \n",
    "    # Use the function to load the .dat file data\n",
    "    data_dict = load_bcidat(dat_file_path)\n",
    "    \n",
    "    # Construct the name of the output .mat file\n",
    "    mat_file_name = os.path.splitext(dat_file)[0] + '.mat'\n",
    "    mat_file_path = os.path.join(dat_files_dir, mat_file_name)\n",
    "    \n",
    "    # Save the data to a .mat file\n",
    "    savemat(mat_file_path, data_dict)\n",
    "\n",
    "print(\"Conversion complete.\")\n"
   ]
  }
 ],
 "metadata": {
  "language_info": {
   "name": "python"
  }
 },
 "nbformat": 4,
 "nbformat_minor": 2
}
